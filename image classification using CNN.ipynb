{
 "cells": [
  {
   "cell_type": "code",
   "execution_count": 1,
   "id": "198f1e4e-2e51-49e8-946e-90b2a613bb46",
   "metadata": {},
   "outputs": [],
   "source": [
    "import tensorflow as tf\n",
    "from tensorflow import keras\n",
    "from tensorflow.keras import datasets,layers,models\n",
    "from tensorflow.keras.callbacks import EarlyStopping\n",
    "import math\n",
    "import numpy as np\n",
    "from matplotlib import pyplot as plt\n",
    "\n"
   ]
  },
  {
   "cell_type": "code",
   "execution_count": 2,
   "id": "05edac57-41bf-4d2b-b335-3ed4e221436e",
   "metadata": {},
   "outputs": [
    {
     "data": {
      "text/plain": [
       "(10000, 32, 32, 3)"
      ]
     },
     "execution_count": 2,
     "metadata": {},
     "output_type": "execute_result"
    }
   ],
   "source": [
    "(X_train,Y_train) , (X_test,Y_test) = datasets.cifar10.load_data()\n",
    "X_test.shape"
   ]
  },
  {
   "cell_type": "code",
   "execution_count": 3,
   "id": "738a9993-a8ac-481e-805e-131472b97834",
   "metadata": {},
   "outputs": [
    {
     "data": {
      "text/plain": [
       "<matplotlib.image.AxesImage at 0x71ec0f38f2d0>"
      ]
     },
     "execution_count": 3,
     "metadata": {},
     "output_type": "execute_result"
    },
    {
     "data": {
      "image/png": "[encoded data removed]",
      "text/plain": [
       "<Figure size 640x480 with 1 Axes>"
      ]
     },
     "metadata": {},
     "output_type": "display_data"
    }
   ],
   "source": [
    "plt.imshow(X_test[0])"
   ]
  },
  {
   "cell_type": "code",
   "execution_count": 5,
   "id": "3fa7fc90-d176-4eeb-a0a7-4eca2533168c",
   "metadata": {},
   "outputs": [
    {
     "data": {
      "text/plain": [
       "array([6, 9, 9, 4, 1], dtype=uint8)"
      ]
     },
     "execution_count": 5,
     "metadata": {},
     "output_type": "execute_result"
    }
   ],
   "source": [
    "Y_train=Y_train.reshape(-1,)\n",
    "Y_train[:5]"
   ]
  },
  {
   "cell_type": "code",
   "execution_count": 7,
   "id": "8989a078-b971-48a9-9314-eb3c9ce0dbc0",
   "metadata": {},
   "outputs": [],
   "source": [
    "classes = [\"airplane\" , \"automobile\" , \"bird\" , \"car\" , \"deer\" , \"dog\" ,\"frog\" ,\"horse\" ,\"ship\" , \"truck\"]"
   ]
  },
  {
   "cell_type": "code",
   "execution_count": 11,
   "id": "14efaaf0-a96f-41d0-8111-8e46889ed928",
   "metadata": {},
   "outputs": [],
   "source": [
    "def plot_sample(X,y, index):\n",
    "    plt.figure(figsize= (15,2))\n",
    "    plt.imshow(X[index])\n",
    "    plt.xlabel(classes[y[index]])"
   ]
  },
  {
   "cell_type": "code",
   "execution_count": 13,
   "id": "847aba6c-0fd6-400e-9c35-58d29d0a1dee",
   "metadata": {},
   "outputs": [
    {
     "data": {
      "image/png": "[encoded data removed]",
      "text/plain": [
       "<Figure size 1500x200 with 1 Axes>"
      ]
     },
     "metadata": {},
     "output_type": "display_data"
    }
   ],
   "source": [
    "plot_sample(X_train,Y_train,69)"
   ]
  },
  {
   "cell_type": "code",
   "execution_count": 15,
   "id": "a1e2c6bc-1eff-4985-8797-15b9fd5902c6",
   "metadata": {},
   "outputs": [],
   "source": [
    "X_train = X_train/255\n",
    "X_test = X_test/225"
   ]
  },
  {
   "cell_type": "markdown",
   "id": "59da5432-fefd-413f-81c9-1407a41b90ea",
   "metadata": {},
   "source": [
    "# implementing ANN aproch (normal neural network)"
   ]
  },
  {
   "cell_type": "code",
   "execution_count": 44,
   "id": "0e25455d-f604-4faa-9244-c3c779775c92",
   "metadata": {},
   "outputs": [
    {
     "name": "stderr",
     "output_type": "stream",
     "text": [
      "2024-09-04 15:06:13.735850: W external/local_tsl/tsl/framework/cpu_allocator_impl.cc:83] Allocation of 614400000 exceeds 10% of free system memory.\n"
     ]
    },
    {
     "name": "stdout",
     "output_type": "stream",
     "text": [
      "\u001b[1m1563/1563\u001b[0m \u001b[32m━━━━━━━━━━━━━━━━━━━━\u001b[0m\u001b[37m\u001b[0m \u001b[1m95s\u001b[0m 61ms/step - accuracy: 0.3063 - loss: 1.9373\n"
     ]
    },
    {
     "data": {
      "text/plain": [
       "<keras.src.callbacks.history.History at 0x71eb99b23bd0>"
      ]
     },
     "execution_count": 44,
     "metadata": {},
     "output_type": "execute_result"
    }
   ],
   "source": [
    "\n",
    "from tensorflow.keras.utils import to_categorical\n",
    "\n",
    "# Convert Y_train to one-hot encoding\n",
    "#Y_train_categorical = to_categorical(Y_train, num_classes=10)  # Adjust num_classes as needed\n",
    "\n",
    "# Define the model\n",
    "ANN = keras.Sequential([\n",
    "    keras.layers.Flatten(input_shape=(32, 32, 3)),\n",
    "    keras.layers.Dense(3000, activation='relu'),\n",
    "    keras.layers.Dense(1000, activation='relu'),\n",
    "    keras.layers.Dense(10, activation='sigmoid')    \n",
    "])\n",
    "\n",
    "# Compile the model\n",
    "ANN.compile(optimizer='SGD',\n",
    "            loss='sparse_categorical_crossentropy',\n",
    "            metrics=['accuracy'])\n",
    "\n",
    "# Train the model\n",
    "ANN.fit(X_train, Y_train, epochs=1)\n"
   ]
  },
  {
   "cell_type": "code",
   "execution_count": 21,
   "id": "b4d72d1a-721d-4e68-b72a-b9d48c774561",
   "metadata": {},
   "outputs": [
    {
     "name": "stdout",
     "output_type": "stream",
     "text": [
      "\u001b[1m  1/313\u001b[0m \u001b[37m━━━━━━━━━━━━━━━━━━━━\u001b[0m \u001b[1m52s\u001b[0m 169ms/step - accuracy: 0.5625 - loss: 1.1779"
     ]
    },
    {
     "name": "stderr",
     "output_type": "stream",
     "text": [
      "2024-09-04 12:33:35.572228: W external/local_tsl/tsl/framework/cpu_allocator_impl.cc:83] Allocation of 122880000 exceeds 10% of free system memory.\n"
     ]
    },
    {
     "name": "stdout",
     "output_type": "stream",
     "text": [
      "\u001b[1m313/313\u001b[0m \u001b[32m━━━━━━━━━━━━━━━━━━━━\u001b[0m\u001b[37m\u001b[0m \u001b[1m5s\u001b[0m 15ms/step - accuracy: 0.5171 - loss: 1.3637\n"
     ]
    },
    {
     "data": {
      "text/plain": [
       "[1.3714840412139893, 0.5131000280380249]"
      ]
     },
     "execution_count": 21,
     "metadata": {},
     "output_type": "execute_result"
    }
   ],
   "source": [
    "ANN.evaluate(X_test,Y_test)"
   ]
  },
  {
   "cell_type": "code",
   "execution_count": 27,
   "id": "69a28d98-c7fe-483f-8ea0-41ca438f92dd",
   "metadata": {},
   "outputs": [
    {
     "name": "stdout",
     "output_type": "stream",
     "text": [
      "\u001b[1m  9/313\u001b[0m \u001b[37m━━━━━━━━━━━━━━━━━━━━\u001b[0m \u001b[1m4s\u001b[0m 15ms/step"
     ]
    },
    {
     "name": "stderr",
     "output_type": "stream",
     "text": [
      "2024-09-04 12:35:16.282730: W external/local_tsl/tsl/framework/cpu_allocator_impl.cc:83] Allocation of 122880000 exceeds 10% of free system memory.\n"
     ]
    },
    {
     "name": "stdout",
     "output_type": "stream",
     "text": [
      "\u001b[1m313/313\u001b[0m \u001b[32m━━━━━━━━━━━━━━━━━━━━\u001b[0m\u001b[37m\u001b[0m \u001b[1m4s\u001b[0m 14ms/step\n"
     ]
    },
    {
     "data": {
      "text/plain": [
       "[3, 8, 8, 8, 4, 6, 3, 6]"
      ]
     },
     "execution_count": 27,
     "metadata": {},
     "output_type": "execute_result"
    }
   ],
   "source": [
    "y_pred=ANN.predict(X_test)\n",
    "y_classes=[np.argmax(element) for element in y_pred]\n",
    "y_classes[:8]"
   ]
  },
  {
   "cell_type": "code",
   "execution_count": 31,
   "id": "19fc5834-f99a-43d0-bc6b-b058eb80c3dc",
   "metadata": {},
   "outputs": [
    {
     "name": "stdout",
     "output_type": "stream",
     "text": [
      "Classification Report: \n",
      "               precision    recall  f1-score   support\n",
      "\n",
      "           0       0.52      0.62      0.57      1000\n",
      "           1       0.53      0.76      0.63      1000\n",
      "           2       0.43      0.35      0.39      1000\n",
      "           3       0.32      0.51      0.40      1000\n",
      "           4       0.50      0.40      0.44      1000\n",
      "           5       0.53      0.26      0.35      1000\n",
      "           6       0.56      0.59      0.57      1000\n",
      "           7       0.66      0.50      0.57      1000\n",
      "           8       0.58      0.69      0.63      1000\n",
      "           9       0.63      0.45      0.53      1000\n",
      "\n",
      "    accuracy                           0.51     10000\n",
      "   macro avg       0.53      0.51      0.51     10000\n",
      "weighted avg       0.53      0.51      0.51     10000\n",
      "\n"
     ]
    }
   ],
   "source": [
    "from sklearn.metrics import confusion_matrix , classification_report\n",
    "import numpy as np\n",
    "#y_pred = ann.predict(X_test)\n",
    "y_pred_classes = [np.argmax(element) for element in y_pred]\n",
    "\n",
    "print(\"Classification Report: \\n\", classification_report(Y_test, y_pred_classes))"
   ]
  },
  {
   "cell_type": "markdown",
   "id": "f198f90f-a8e7-405f-8161-584f71b935ad",
   "metadata": {},
   "source": [
    "# implimenting the CNN aproach "
   ]
  },
  {
   "cell_type": "code",
   "execution_count": 19,
   "id": "b428c28c-75a2-45e8-b447-f26378d7ba19",
   "metadata": {},
   "outputs": [],
   "source": [
    "\n",
    "\n",
    "cnn = models.Sequential([\n",
    "    layers.Conv2D(filters=32, kernel_size=(3, 3), activation='relu', input_shape=(32, 32, 3)),\n",
    "    layers.MaxPooling2D((2, 2)),\n",
    "    \n",
    "    layers.Conv2D(filters=64, kernel_size=(3, 3), activation='relu'),\n",
    "    layers.MaxPooling2D((2, 2)),\n",
    "    \n",
    "    layers.Flatten(),\n",
    "    layers.Dense(64, activation='relu'),\n",
    "    layers.Dense(10, activation='softmax')\n",
    "])\n",
    "\n",
    "\n"
   ]
  },
  {
   "cell_type": "code",
   "execution_count": 21,
   "id": "05d2474d-c3c6-48e7-b742-0b1bb78fd9ec",
   "metadata": {},
   "outputs": [],
   "source": [
    "\n",
    "\n",
    "cnn.compile(optimizer='adam',\n",
    "              loss='sparse_categorical_crossentropy',\n",
    "              metrics=['accuracy'])\n",
    "\n",
    "# Define the EarlyStopping callback\n",
    "early_stopping = EarlyStopping(\n",
    "    monitor='accuracy',\n",
    "    patience=15,\n",
    "    mode='max',\n",
    "    restore_best_weights=True\n",
    ")\n"
   ]
  },
  {
   "cell_type": "code",
   "execution_count": 23,
   "id": "92d872e4-b0aa-4071-900e-72b5c3e87b41",
   "metadata": {},
   "outputs": [
    {
     "name": "stdout",
     "output_type": "stream",
     "text": [
      "Epoch 1/20\n"
     ]
    },
    {
     "name": "stderr",
     "output_type": "stream",
     "text": [
      "2024-09-04 14:37:06.682466: W external/local_tsl/tsl/framework/cpu_allocator_impl.cc:83] Allocation of 614400000 exceeds 10% of free system memory.\n"
     ]
    },
    {
     "name": "stdout",
     "output_type": "stream",
     "text": [
      "\u001b[1m1563/1563\u001b[0m \u001b[32m━━━━━━━━━━━━━━━━━━━━\u001b[0m\u001b[37m\u001b[0m \u001b[1m28s\u001b[0m 17ms/step - accuracy: 0.3823 - loss: 1.6861 - val_accuracy: 0.5660 - val_loss: 1.2390\n",
      "Epoch 2/20\n",
      "\u001b[1m1563/1563\u001b[0m \u001b[32m━━━━━━━━━━━━━━━━━━━━\u001b[0m\u001b[37m\u001b[0m \u001b[1m25s\u001b[0m 16ms/step - accuracy: 0.5954 - loss: 1.1448 - val_accuracy: 0.6282 - val_loss: 1.0699\n",
      "Epoch 3/20\n",
      "\u001b[1m1563/1563\u001b[0m \u001b[32m━━━━━━━━━━━━━━━━━━━━\u001b[0m\u001b[37m\u001b[0m \u001b[1m26s\u001b[0m 16ms/step - accuracy: 0.6525 - loss: 0.9921 - val_accuracy: 0.6517 - val_loss: 0.9923\n",
      "Epoch 4/20\n",
      "\u001b[1m1563/1563\u001b[0m \u001b[32m━━━━━━━━━━━━━━━━━━━━\u001b[0m\u001b[37m\u001b[0m \u001b[1m26s\u001b[0m 16ms/step - accuracy: 0.6891 - loss: 0.8956 - val_accuracy: 0.6633 - val_loss: 0.9964\n",
      "Epoch 5/20\n",
      "\u001b[1m1563/1563\u001b[0m \u001b[32m━━━━━━━━━━━━━━━━━━━━\u001b[0m\u001b[37m\u001b[0m \u001b[1m26s\u001b[0m 17ms/step - accuracy: 0.7096 - loss: 0.8414 - val_accuracy: 0.6832 - val_loss: 0.9190\n",
      "Epoch 6/20\n",
      "\u001b[1m1563/1563\u001b[0m \u001b[32m━━━━━━━━━━━━━━━━━━━━\u001b[0m\u001b[37m\u001b[0m \u001b[1m26s\u001b[0m 17ms/step - accuracy: 0.7336 - loss: 0.7714 - val_accuracy: 0.6673 - val_loss: 0.9910\n",
      "Epoch 7/20\n",
      "\u001b[1m1563/1563\u001b[0m \u001b[32m━━━━━━━━━━━━━━━━━━━━\u001b[0m\u001b[37m\u001b[0m \u001b[1m26s\u001b[0m 16ms/step - accuracy: 0.7454 - loss: 0.7234 - val_accuracy: 0.6678 - val_loss: 1.0002\n",
      "Epoch 8/20\n",
      "\u001b[1m1563/1563\u001b[0m \u001b[32m━━━━━━━━━━━━━━━━━━━━\u001b[0m\u001b[37m\u001b[0m \u001b[1m26s\u001b[0m 17ms/step - accuracy: 0.7679 - loss: 0.6686 - val_accuracy: 0.6886 - val_loss: 0.9297\n",
      "Epoch 9/20\n",
      "\u001b[1m1563/1563\u001b[0m \u001b[32m━━━━━━━━━━━━━━━━━━━━\u001b[0m\u001b[37m\u001b[0m \u001b[1m26s\u001b[0m 17ms/step - accuracy: 0.7836 - loss: 0.6266 - val_accuracy: 0.6871 - val_loss: 0.9727\n",
      "Epoch 10/20\n",
      "\u001b[1m1563/1563\u001b[0m \u001b[32m━━━━━━━━━━━━━━━━━━━━\u001b[0m\u001b[37m\u001b[0m \u001b[1m26s\u001b[0m 17ms/step - accuracy: 0.7938 - loss: 0.5864 - val_accuracy: 0.6729 - val_loss: 1.0574\n",
      "Epoch 11/20\n",
      "\u001b[1m1563/1563\u001b[0m \u001b[32m━━━━━━━━━━━━━━━━━━━━\u001b[0m\u001b[37m\u001b[0m \u001b[1m26s\u001b[0m 17ms/step - accuracy: 0.8104 - loss: 0.5440 - val_accuracy: 0.6923 - val_loss: 0.9988\n",
      "Epoch 12/20\n",
      "\u001b[1m1563/1563\u001b[0m \u001b[32m━━━━━━━━━━━━━━━━━━━━\u001b[0m\u001b[37m\u001b[0m \u001b[1m26s\u001b[0m 17ms/step - accuracy: 0.8205 - loss: 0.5145 - val_accuracy: 0.6854 - val_loss: 1.0435\n",
      "Epoch 13/20\n",
      "\u001b[1m1563/1563\u001b[0m \u001b[32m━━━━━━━━━━━━━━━━━━━━\u001b[0m\u001b[37m\u001b[0m \u001b[1m26s\u001b[0m 17ms/step - accuracy: 0.8307 - loss: 0.4776 - val_accuracy: 0.6865 - val_loss: 1.0730\n",
      "Epoch 14/20\n",
      "\u001b[1m1563/1563\u001b[0m \u001b[32m━━━━━━━━━━━━━━━━━━━━\u001b[0m\u001b[37m\u001b[0m \u001b[1m26s\u001b[0m 17ms/step - accuracy: 0.8409 - loss: 0.4532 - val_accuracy: 0.6856 - val_loss: 1.1176\n",
      "Epoch 15/20\n",
      "\u001b[1m1563/1563\u001b[0m \u001b[32m━━━━━━━━━━━━━━━━━━━━\u001b[0m\u001b[37m\u001b[0m \u001b[1m26s\u001b[0m 17ms/step - accuracy: 0.8512 - loss: 0.4187 - val_accuracy: 0.6792 - val_loss: 1.1897\n",
      "Epoch 16/20\n",
      "\u001b[1m1563/1563\u001b[0m \u001b[32m━━━━━━━━━━━━━━━━━━━━\u001b[0m\u001b[37m\u001b[0m \u001b[1m26s\u001b[0m 17ms/step - accuracy: 0.8594 - loss: 0.3982 - val_accuracy: 0.6814 - val_loss: 1.1983\n",
      "Epoch 17/20\n",
      "\u001b[1m1563/1563\u001b[0m \u001b[32m━━━━━━━━━━━━━━━━━━━━\u001b[0m\u001b[37m\u001b[0m \u001b[1m26s\u001b[0m 17ms/step - accuracy: 0.8673 - loss: 0.3742 - val_accuracy: 0.6791 - val_loss: 1.2604\n",
      "Epoch 18/20\n",
      "\u001b[1m1563/1563\u001b[0m \u001b[32m━━━━━━━━━━━━━━━━━━━━\u001b[0m\u001b[37m\u001b[0m \u001b[1m26s\u001b[0m 17ms/step - accuracy: 0.8742 - loss: 0.3564 - val_accuracy: 0.6725 - val_loss: 1.3364\n",
      "Epoch 19/20\n",
      "\u001b[1m1563/1563\u001b[0m \u001b[32m━━━━━━━━━━━━━━━━━━━━\u001b[0m\u001b[37m\u001b[0m \u001b[1m26s\u001b[0m 17ms/step - accuracy: 0.8787 - loss: 0.3320 - val_accuracy: 0.6852 - val_loss: 1.3952\n",
      "Epoch 20/20\n",
      "\u001b[1m1563/1563\u001b[0m \u001b[32m━━━━━━━━━━━━━━━━━━━━\u001b[0m\u001b[37m\u001b[0m \u001b[1m26s\u001b[0m 17ms/step - accuracy: 0.8912 - loss: 0.3024 - val_accuracy: 0.6751 - val_loss: 1.3946\n"
     ]
    }
   ],
   "source": [
    "history = cnn.fit(\n",
    "    X_train, Y_train,\n",
    "    epochs=20,\n",
    "    callbacks=[early_stopping],\n",
    "    validation_data=(X_test, Y_test)\n",
    ")\n"
   ]
  },
  {
   "cell_type": "code",
   "execution_count": 25,
   "id": "f24dd939-ae37-422a-95ba-f9ed690921cc",
   "metadata": {},
   "outputs": [
    {
     "name": "stdout",
     "output_type": "stream",
     "text": [
      "\u001b[1m313/313\u001b[0m \u001b[32m━━━━━━━━━━━━━━━━━━━━\u001b[0m\u001b[37m\u001b[0m \u001b[1m2s\u001b[0m 7ms/step - accuracy: 0.6748 - loss: 1.3849\n"
     ]
    },
    {
     "data": {
      "text/plain": [
       "[1.3946216106414795, 0.6751000285148621]"
      ]
     },
     "execution_count": 25,
     "metadata": {},
     "output_type": "execute_result"
    }
   ],
   "source": [
    "cnn.evaluate(X_test,Y_test)"
   ]
  },
  {
   "cell_type": "code",
   "execution_count": 27,
   "id": "7d3c7a78-acba-4a6f-b28a-90ea2616d627",
   "metadata": {},
   "outputs": [
    {
     "name": "stdout",
     "output_type": "stream",
     "text": [
      "\u001b[1m313/313\u001b[0m \u001b[32m━━━━━━━━━━━━━━━━━━━━\u001b[0m\u001b[37m\u001b[0m \u001b[1m2s\u001b[0m 7ms/step\n"
     ]
    }
   ],
   "source": [
    "y_predicted=cnn.predict(X_test)"
   ]
  },
  {
   "cell_type": "code",
   "execution_count": 29,
   "id": "83d4533e-59f9-4b81-b59c-5d7a05c7fcaf",
   "metadata": {
    "scrolled": true
   },
   "outputs": [
    {
     "data": {
      "text/plain": [
       "array([[1.4293742e-06, 1.5246599e-07, 3.9272927e-06, 9.9934697e-01,\n",
       "        1.5614640e-05, 3.5818378e-04, 1.4768854e-04, 6.9322284e-11,\n",
       "        1.2039661e-04, 5.5462615e-06],\n",
       "       [1.2151554e-11, 8.7340128e-11, 2.1458020e-19, 1.4854100e-15,\n",
       "        2.1668399e-22, 3.0381676e-17, 1.9711539e-23, 1.5512221e-26,\n",
       "        9.9999994e-01, 1.7439262e-11],\n",
       "       [2.4687557e-01, 4.1082880e-01, 1.2677034e-02, 5.6245793e-03,\n",
       "        2.4376225e-02, 1.0071432e-03, 2.3477399e-07, 1.3163152e-01,\n",
       "        8.9468472e-03, 1.5803196e-01],\n",
       "       [9.9974346e-01, 2.9437058e-05, 1.4357982e-04, 8.8432444e-08,\n",
       "        4.8759089e-06, 1.3268383e-09, 3.6777536e-08, 3.5855180e-06,\n",
       "        7.4877746e-05, 2.1633596e-08],\n",
       "       [5.0150506e-09, 5.7853492e-07, 3.3891801e-02, 3.7038054e-02,\n",
       "        1.9964229e-01, 3.6677990e-05, 7.2939074e-01, 6.7155515e-13,\n",
       "        1.1910921e-10, 2.5920533e-11],\n",
       "       [3.9489594e-05, 1.7045680e-07, 5.9617785e-05, 3.3569388e-04,\n",
       "        8.5025450e-04, 3.6877322e-05, 9.9866724e-01, 2.3782611e-06,\n",
       "        2.1500369e-08, 8.1941198e-06]], dtype=float32)"
      ]
     },
     "execution_count": 29,
     "metadata": {},
     "output_type": "execute_result"
    }
   ],
   "source": [
    "y_predicted[:6]"
   ]
  },
  {
   "cell_type": "code",
   "execution_count": 31,
   "id": "fbd8e925-00d1-40cd-96fb-de3fd733cef2",
   "metadata": {},
   "outputs": [
    {
     "data": {
      "text/plain": [
       "[3, 8, 1, 0, 6, 6, 1, 6]"
      ]
     },
     "execution_count": 31,
     "metadata": {},
     "output_type": "execute_result"
    }
   ],
   "source": [
    "y_classes=[np.argmax(element) for element in y_predicted]\n",
    "y_classes[:8]"
   ]
  },
  {
   "cell_type": "code",
   "execution_count": 36,
   "id": "e834cc44-671a-4625-8411-784e235d7d23",
   "metadata": {},
   "outputs": [
    {
     "name": "stdout",
     "output_type": "stream",
     "text": [
      "Best Training Accuracy: 0.8777\n",
      "Best Training val_Accuracy: 0.6923\n"
     ]
    }
   ],
   "source": [
    "from tensorflow.keras.callbacks import EarlyStopping\n",
    "# Get the best accuracy from the history\n",
    "best_accuracy = max(history.history['accuracy'])  # or 'val_accuracy' for validation accuracy\n",
    "best_val_accuracy = max(history.history['val_accuracy'])\n",
    "\n",
    "print(f\"Best Training Accuracy: {best_accuracy:.4f}\")\n",
    "print(f\"Best Training val_Accuracy: {best_val_accuracy:.4f}\")"
   ]
  },
  {
   "cell_type": "code",
   "execution_count": 33,
   "id": "9458b6ab-2a2b-426b-ac22-76c79975d79b",
   "metadata": {},
   "outputs": [
    {
     "name": "stdout",
     "output_type": "stream",
     "text": [
      "Classification Report: \n",
      "               precision    recall  f1-score   support\n",
      "\n",
      "           0       0.62      0.78      0.69      1000\n",
      "           1       0.81      0.78      0.80      1000\n",
      "           2       0.60      0.52      0.56      1000\n",
      "           3       0.49      0.48      0.48      1000\n",
      "           4       0.67      0.58      0.62      1000\n",
      "           5       0.58      0.59      0.59      1000\n",
      "           6       0.72      0.76      0.74      1000\n",
      "           7       0.74      0.67      0.71      1000\n",
      "           8       0.79      0.80      0.79      1000\n",
      "           9       0.73      0.79      0.76      1000\n",
      "\n",
      "    accuracy                           0.68     10000\n",
      "   macro avg       0.68      0.68      0.67     10000\n",
      "weighted avg       0.68      0.68      0.67     10000\n",
      "\n"
     ]
    }
   ],
   "source": [
    "from sklearn.metrics import confusion_matrix , classification_report\n",
    "import numpy as np\n",
    "#y_pred = ann.predict(X_test)\n",
    "y_pred_classes = [np.argmax(element) for element in y_predicted]\n",
    "\n",
    "print(\"Classification Report: \\n\", classification_report(Y_test, y_pred_classes))"
   ]
  },
  {
   "cell_type": "code",
   "execution_count": 41,
   "id": "ae2aecce-1194-4477-b9ab-a05746ec1816",
   "metadata": {},
   "outputs": [
    {
     "name": "stdout",
     "output_type": "stream",
     "text": [
      "\u001b[1m313/313\u001b[0m \u001b[32m━━━━━━━━━━━━━━━━━━━━\u001b[0m\u001b[37m\u001b[0m \u001b[1m2s\u001b[0m 7ms/step\n"
     ]
    },
    {
     "data": {
      "image/png": "[encoded data removed]",
      "text/plain": [
       "<Figure size 1000x800 with 2 Axes>"
      ]
     },
     "metadata": {},
     "output_type": "display_data"
    }
   ],
   "source": [
    "import numpy as np\n",
    "import seaborn as sns\n",
    "import matplotlib.pyplot as plt\n",
    "from sklearn.metrics import confusion_matrix\n",
    "from tensorflow.keras.utils import to_categorical\n",
    "\n",
    "# Generate predictions\n",
    "y_pred = cnn.predict(X_test)\n",
    "y_pred_classes = np.argmax(y_pred, axis=1)  # Get the class with highest probability\n",
    "y_true = Y_test  # True labels\n",
    "\n",
    "# Compute the confusion matrix\n",
    "cm = confusion_matrix(y_true, y_pred_classes)\n",
    "\n",
    "# Plot the confusion matrix as a heatmap\n",
    "plt.figure(figsize=(10, 8))\n",
    "sns.heatmap(cm, annot=True, fmt='d', cmap='Blues', xticklabels=range(10), yticklabels=range(10))\n",
    "plt.xlabel('Predicted Label')\n",
    "plt.ylabel('True Label')\n",
    "plt.title('Confusion Matrix Heatmap')\n",
    "plt.show()\n"
   ]
  },
  {
   "cell_type": "code",
   "execution_count": null,
   "id": "00b2dd43-8b18-4b46-9de9-0819736c1363",
   "metadata": {},
   "outputs": [],
   "source": []
  }
 ],
 "metadata": {
  "kernelspec": {
   "display_name": "Python 3 (ipykernel)",
   "language": "python",
   "name": "python3"
  },
  "language_info": {
   "codemirror_mode": {
    "name": "ipython",
    "version": 3
   },
   "file_extension": ".py",
   "mimetype": "text/x-python",
   "name": "python",
   "nbconvert_exporter": "python",
   "pygments_lexer": "ipython3",
   "version": "3.11.7"
  }
 },
 "nbformat": 4,
 "nbformat_minor": 5
}
